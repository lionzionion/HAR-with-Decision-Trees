{
  "cells": [
    {
      "cell_type": "markdown",
      "metadata": {
        "id": "tBV4oKenmHVM"
      },
      "source": [
        "# Árvores II - Tarefa 2"
      ]
    },
    {
      "cell_type": "markdown",
      "metadata": {
        "id": "fiyjMoHvmHVR"
      },
      "source": [
        "### 1. Carregar as bases\n",
        "\n",
        "Vamos carregar as bases lidas na tarefa passada. Se você salvou essas bases em arquivo texto, basta fazer a leitura com o comando ```pd.read_csv``` das seguintes bases:\n",
        "\n",
        "- X_train\n",
        "- Y_train\n",
        "- X_test\n",
        "- Y_test\n",
        "\n",
        "Não se esqueça de considerar a leitura dos índices dos arquivos no ```read_csv()```!"
      ]
    },
    {
      "cell_type": "code",
      "source": [
        "import pandas as pd\n",
        "import seaborn as sns\n",
        "import matplotlib.pyplot as plt\n",
        "from sklearn.tree import DecisionTreeClassifier, plot_tree\n",
        "from sklearn.model_selection import train_test_split\n",
        "from sklearn.metrics import ConfusionMatrixDisplay, confusion_matrix\n",
        "\n",
        "# Task 1: Load datasets\n",
        "X_train = pd.read_csv('/content/X_train.txt', index_col=0)\n",
        "Y_train = pd.read_csv('/content/y_train.txt', index_col=0)\n",
        "X_test = pd.read_csv('/content/X_test.txt', index_col=0)\n",
        "Y_test = pd.read_csv('/content/y_test.txt', index_col=0)"
      ],
      "metadata": {
        "id": "5y3iUh6TrWau"
      },
      "execution_count": 21,
      "outputs": []
    },
    {
      "cell_type": "markdown",
      "metadata": {
        "id": "LGgco7cWmHVU"
      },
      "source": [
        "### 2. Divisão da base em Treino, Validação e Teste\n",
        "\n",
        "A base já se encontra dividida em Treino e Validação. O que vamos fazer então é extrair uma base de Validação da base de Treino.\n",
        "\n",
        "Extraia 25% da base de treino como base de validação."
      ]
    },
    {
      "cell_type": "code",
      "source": [
        "# Task 2: Split the dataset into Train, Validation, and Test sets\n",
        "X_train, X_val, Y_train, Y_val = train_test_split(X_train, Y_train, test_size=0.25, random_state=42)"
      ],
      "metadata": {
        "id": "kwRgiD3jrgRz"
      },
      "execution_count": 22,
      "outputs": []
    },
    {
      "cell_type": "markdown",
      "metadata": {
        "id": "2kcms8u0mHVV"
      },
      "source": [
        "### 3. Melhores 3 variáveis\n",
        "\n",
        "Rode uma árvore com profundidade máxima igual a 4 para prever a atividade humana com todas as variáveis.\n",
        "Observe a importância das variáveis e considere as 3 variáveis com maior importância para os próximos passos.\n",
        "Dica: utilize o atributo ```clf.feature_importances_``` da árvore treinada."
      ]
    },
    {
      "cell_type": "code",
      "source": [
        "# Árvores II - Tarefa 2\n",
        "\n",
        "### 1. Carregar as bases\n",
        "\n",
        "# Carregue X_train com o delimitador apropriado, se necessário\n",
        "X_train = pd.read_csv('/content/X_train.txt', sep='\\s+', header=None, index_col=0)\n",
        "\n",
        "# Exiba as primeiras linhas de X_train\n",
        "print(\"Primeiras linhas de X_train:\")\n",
        "print(X_train.head())\n",
        "\n",
        "# Exiba os tipos de dados e a forma de X_train\n",
        "print(\"\\nTipos de dados de X_train:\")\n",
        "print(X_train.dtypes)\n",
        "print(\"\\nFormato de X_train:\", X_train.shape)\n",
        "\n",
        "\n",
        "# Verifique se X_train possui colunas\n",
        "if X_train.shape[1] == 0:\n",
        "    raise ValueError(\"X_train não contém nenhuma coluna. Por favor, verifique o carregamento ou pré-processamento dos seus dados.\")\n",
        "\n",
        "# Converta X_train para um array NumPy usando to_numpy()\n",
        "X_train_np = X_train.to_numpy()\n",
        "\n",
        "# Continue com o restante do código\n",
        "clf_top3.fit(X_train_np, Y_train_1d)\n",
        "feature_importance_top3 = clf_top3.feature_importances_\n",
        "top3_features = X_train.columns[np.argsort(feature_importance_top3)[::-1][:3]]\n",
        "\n"
      ],
      "metadata": {
        "colab": {
          "base_uri": "https://localhost:8080/"
        },
        "id": "0oHB9cSxsc9e",
        "outputId": "1b677fc8-9cc4-49bf-dd67-8e7bd45ce0bb"
      },
      "execution_count": 43,
      "outputs": [
        {
          "output_type": "stream",
          "name": "stdout",
          "text": [
            "Primeiras linhas de X_train:\n",
            "               1         2         3         4         5         6    \\\n",
            "0                                                                      \n",
            "0.288585 -0.020294 -0.132905 -0.995279 -0.983111 -0.913526 -0.995112   \n",
            "0.278419 -0.016411 -0.123520 -0.998245 -0.975300 -0.960322 -0.998807   \n",
            "0.279653 -0.019467 -0.113462 -0.995380 -0.967187 -0.978944 -0.996520   \n",
            "0.279174 -0.026201 -0.123283 -0.996091 -0.983403 -0.990675 -0.997099   \n",
            "0.276629 -0.016570 -0.115362 -0.998139 -0.980817 -0.990482 -0.998321   \n",
            "\n",
            "               7         8         9         10   ...       551       552  \\\n",
            "0                                                 ...                       \n",
            "0.288585 -0.983185 -0.923527 -0.934724 -0.567378  ... -0.074323 -0.298676   \n",
            "0.278419 -0.974914 -0.957686 -0.943068 -0.557851  ...  0.158075 -0.595051   \n",
            "0.279653 -0.963668 -0.977469 -0.938692 -0.557851  ...  0.414503 -0.390748   \n",
            "0.279174 -0.982750 -0.989302 -0.938692 -0.576159  ...  0.404573 -0.117290   \n",
            "0.276629 -0.979672 -0.990441 -0.942469 -0.569174  ...  0.087753 -0.351471   \n",
            "\n",
            "               553       554       555       556       557       558  \\\n",
            "0                                                                      \n",
            "0.288585 -0.710304 -0.112754  0.030400 -0.464761 -0.018446 -0.841247   \n",
            "0.278419 -0.861499  0.053477 -0.007435 -0.732626  0.703511 -0.844788   \n",
            "0.279653 -0.760104 -0.118559  0.177899  0.100699  0.808529 -0.848933   \n",
            "0.279174 -0.482845 -0.036788 -0.012892  0.640011 -0.485366 -0.848649   \n",
            "0.276629 -0.699205  0.123320  0.122542  0.693578 -0.615971 -0.847865   \n",
            "\n",
            "               559       560  \n",
            "0                             \n",
            "0.288585  0.179941 -0.058627  \n",
            "0.278419  0.180289 -0.054317  \n",
            "0.279653  0.180637 -0.049118  \n",
            "0.279174  0.181935 -0.047663  \n",
            "0.276629  0.185151 -0.043892  \n",
            "\n",
            "[5 rows x 560 columns]\n",
            "\n",
            "Tipos de dados de X_train:\n",
            "1      float64\n",
            "2      float64\n",
            "3      float64\n",
            "4      float64\n",
            "5      float64\n",
            "        ...   \n",
            "556    float64\n",
            "557    float64\n",
            "558    float64\n",
            "559    float64\n",
            "560    float64\n",
            "Length: 560, dtype: object\n",
            "\n",
            "Formato de X_train: (7352, 560)\n"
          ]
        }
      ]
    },
    {
      "cell_type": "markdown",
      "metadata": {
        "id": "FyFfHoygmHVW"
      },
      "source": [
        "### 4. Construa uma árvore com as 3 melhores variáveis\n",
        "\n",
        "Utilizando as três variáveis encontradas acima, construa uma árvore de decisão. Encontre o melhor ```ccp_alpha``` utilizando a base de validação, conforme a estrutura que vimos em aula."
      ]
    },
    {
      "cell_type": "code",
      "source": [
        "%%time\n",
        "\n",
        "from sklearn.tree import DecisionTreeClassifier\n",
        "from sklearn.model_selection import GridSearchCV\n",
        "\n",
        "# Seleciona apenas as três melhores variáveis\n",
        "X_train_top3 = X_train[top3_features]\n",
        "\n",
        "# Inicializa um DecisionTreeClassifier\n",
        "clf_top3 = DecisionTreeClassifier(random_state=42)\n",
        "\n",
        "# Define os parâmetros a serem testados, incluindo ccp_alpha\n",
        "param_grid = {\n",
        "    'ccp_alpha': [0.001, 0.005, 0.01, 0.05, 0.1, 0.5, 1.0]\n",
        "}\n",
        "\n",
        "# Inicializa um GridSearchCV para encontrar o melhor ccp_alpha\n",
        "grid_search = GridSearchCV(clf_top3, param_grid, cv=5, scoring='accuracy')\n",
        "grid_search.fit(X_train_top3, Y_train_1d)\n",
        "\n",
        "# Obtém o melhor modelo\n",
        "best_clf_top3 = grid_search.best_estimator_\n",
        "\n",
        "# Exibe o melhor ccp_alpha encontrado\n",
        "print(\"Melhor ccp_alpha:\", best_clf_top3.ccp_alpha)\n"
      ],
      "metadata": {
        "colab": {
          "base_uri": "https://localhost:8080/"
        },
        "id": "9SShef1nvTNB",
        "outputId": "92c10643-a175-438d-8806-4b2f6c60eadf"
      },
      "execution_count": 45,
      "outputs": [
        {
          "output_type": "stream",
          "name": "stdout",
          "text": [
            "Melhor ccp_alpha: 0.01\n",
            "CPU times: user 1.15 s, sys: 7.79 ms, total: 1.16 s\n",
            "Wall time: 1.16 s\n"
          ]
        }
      ]
    },
    {
      "cell_type": "markdown",
      "metadata": {
        "id": "qKkzT1atmHVX"
      },
      "source": [
        "### 5. Avaliação do modelo\n",
        "\n",
        "Avalie a árvore encontrada no item anterior na base de testes."
      ]
    },
    {
      "cell_type": "code",
      "source": [
        "# Carregue Y_test\n",
        "Y_test = pd.read_csv('/content/y_test.txt', sep='\\s+', header=None, squeeze=True)\n",
        "\n",
        "# Exiba as primeiras linhas de Y_test\n",
        "print(\"Primeiras linhas de Y_test:\")\n",
        "print(Y_test.head())"
      ],
      "metadata": {
        "colab": {
          "base_uri": "https://localhost:8080/"
        },
        "id": "DEdGEuXJy4pj",
        "outputId": "e308a23a-086c-465e-baf0-31e091330639"
      },
      "execution_count": 68,
      "outputs": [
        {
          "output_type": "stream",
          "name": "stdout",
          "text": [
            "Primeiras linhas de Y_test:\n",
            "0    5\n",
            "1    5\n",
            "2    5\n",
            "3    5\n",
            "4    5\n",
            "Name: 0, dtype: int64\n"
          ]
        },
        {
          "output_type": "stream",
          "name": "stderr",
          "text": [
            "<ipython-input-68-a5928b1e2cbb>:2: FutureWarning: The squeeze argument has been deprecated and will be removed in a future version. Append .squeeze(\"columns\") to the call to squeeze.\n",
            "\n",
            "\n",
            "  Y_test = pd.read_csv('/content/y_test.txt', sep='\\s+', header=None, squeeze=True)\n"
          ]
        }
      ]
    },
    {
      "cell_type": "code",
      "source": [
        "# Avalie o modelo na base de testes\n",
        "y_pred_test_top3 = best_clf_top3.predict(X_test[top3_features])\n",
        "accuracy_test_top3 = accuracy_score(Y_test.values.ravel(), y_pred_test_top3)\n",
        "print(\"Acurácia na base de testes com as 3 melhores variáveis:\", accuracy_test_top3)\n"
      ],
      "metadata": {
        "colab": {
          "base_uri": "https://localhost:8080/"
        },
        "id": "aP_TxVfMxIUR",
        "outputId": "14e478cd-1efb-4f96-b620-f6851f4a3ca6"
      },
      "execution_count": 67,
      "outputs": [
        {
          "output_type": "stream",
          "name": "stdout",
          "text": [
            "Acurácia na base de testes com as 3 melhores variáveis: 0.7387173396674585\n"
          ]
        }
      ]
    }
  ],
  "metadata": {
    "kernelspec": {
      "display_name": "Python 3",
      "language": "python",
      "name": "python3"
    },
    "language_info": {
      "codemirror_mode": {
        "name": "ipython",
        "version": 3
      },
      "file_extension": ".py",
      "mimetype": "text/x-python",
      "name": "python",
      "nbconvert_exporter": "python",
      "pygments_lexer": "ipython3",
      "version": "3.8.5"
    },
    "colab": {
      "provenance": []
    }
  },
  "nbformat": 4,
  "nbformat_minor": 0
}